{
 "cells": [
  {
   "cell_type": "code",
   "execution_count": 1,
   "metadata": {},
   "outputs": [],
   "source": [
    "# Dependencies and Setup\n",
    "import pandas as pd\n",
    "\n",
    "# File to Load (Remember to Change These)\n",
    "file_to_load = \"Resources/purchase_data.csv\"\n",
    "\n",
    "# Read Purchasing File and store into Pandas data frame\n",
    "purchase_data = pd.read_csv(file_to_load)"
   ]
  },
  {
   "cell_type": "markdown",
   "metadata": {},
   "source": [
    "## Player Count"
   ]
  },
  {
   "cell_type": "markdown",
   "metadata": {},
   "source": [
    "* Display the total number of players\n"
   ]
  },
  {
   "cell_type": "code",
   "execution_count": 2,
   "metadata": {},
   "outputs": [
    {
     "data": {
      "text/html": [
       "<div>\n",
       "<style scoped>\n",
       "    .dataframe tbody tr th:only-of-type {\n",
       "        vertical-align: middle;\n",
       "    }\n",
       "\n",
       "    .dataframe tbody tr th {\n",
       "        vertical-align: top;\n",
       "    }\n",
       "\n",
       "    .dataframe thead th {\n",
       "        text-align: right;\n",
       "    }\n",
       "</style>\n",
       "<table border=\"1\" class=\"dataframe\">\n",
       "  <thead>\n",
       "    <tr style=\"text-align: right;\">\n",
       "      <th></th>\n",
       "      <th>Total Players</th>\n",
       "    </tr>\n",
       "  </thead>\n",
       "  <tbody>\n",
       "    <tr>\n",
       "      <td>0</td>\n",
       "      <td>576</td>\n",
       "    </tr>\n",
       "  </tbody>\n",
       "</table>\n",
       "</div>"
      ],
      "text/plain": [
       "   Total Players\n",
       "0            576"
      ]
     },
     "execution_count": 2,
     "metadata": {},
     "output_type": "execute_result"
    }
   ],
   "source": [
    "total_players = purchase_data[\"SN\"].nunique()\n",
    "summary_total_players = pd.DataFrame({\"Total Players\": [total_players]})\n",
    "summary_total_players"
   ]
  },
  {
   "cell_type": "markdown",
   "metadata": {},
   "source": [
    "## Purchasing Analysis (Total)"
   ]
  },
  {
   "cell_type": "markdown",
   "metadata": {},
   "source": [
    "* Run basic calculations to obtain number of unique items, average price, etc.\n",
    "\n",
    "\n",
    "* Create a summary data frame to hold the results\n",
    "\n",
    "\n",
    "* Optional: give the displayed data cleaner formatting\n",
    "\n",
    "\n",
    "* Display the summary data frame\n"
   ]
  },
  {
   "cell_type": "code",
   "execution_count": 3,
   "metadata": {
    "scrolled": true
   },
   "outputs": [
    {
     "data": {
      "text/html": [
       "<style  type=\"text/css\" >\n",
       "</style><table id=\"T_40c74012_52bc_11ea_99bb_8c8590900fa2\" ><thead>    <tr>        <th class=\"blank level0\" ></th>        <th class=\"col_heading level0 col0\" >Unique Items</th>        <th class=\"col_heading level0 col1\" >Average Price</th>        <th class=\"col_heading level0 col2\" >Number of Purchases</th>        <th class=\"col_heading level0 col3\" >Total Revenue</th>    </tr></thead><tbody>\n",
       "                <tr>\n",
       "                        <th id=\"T_40c74012_52bc_11ea_99bb_8c8590900fa2level0_row0\" class=\"row_heading level0 row0\" >0</th>\n",
       "                        <td id=\"T_40c74012_52bc_11ea_99bb_8c8590900fa2row0_col0\" class=\"data row0 col0\" >183</td>\n",
       "                        <td id=\"T_40c74012_52bc_11ea_99bb_8c8590900fa2row0_col1\" class=\"data row0 col1\" >$3.05</td>\n",
       "                        <td id=\"T_40c74012_52bc_11ea_99bb_8c8590900fa2row0_col2\" class=\"data row0 col2\" >780</td>\n",
       "                        <td id=\"T_40c74012_52bc_11ea_99bb_8c8590900fa2row0_col3\" class=\"data row0 col3\" >$2,379.77</td>\n",
       "            </tr>\n",
       "    </tbody></table>"
      ],
      "text/plain": [
       "<pandas.io.formats.style.Styler at 0x11e012410>"
      ]
     },
     "execution_count": 3,
     "metadata": {},
     "output_type": "execute_result"
    }
   ],
   "source": [
    "unique_items = purchase_data[\"Item ID\"].nunique()\n",
    "average_price = purchase_data[\"Price\"].mean()\n",
    "number_of_purchases = purchase_data[\"Purchase ID\"].count()\n",
    "total_revenue = purchase_data[\"Price\"].sum()\n",
    "purchasing_analysis = pd.DataFrame({\"Unique Items\": [unique_items],\n",
    "                                    \"Average Price\": [average_price],\n",
    "                                    \"Number of Purchases\": [number_of_purchases],\n",
    "                                    \"Total Revenue\": [total_revenue]})\n",
    "purchasing_analysis.style.format({'Average Price':\"${:,.2f}\",\n",
    "                         'Total Revenue': '${:,.2f}'})\n",
    "\n",
    "                                    "
   ]
  },
  {
   "cell_type": "markdown",
   "metadata": {},
   "source": [
    "## Gender Demographics"
   ]
  },
  {
   "cell_type": "markdown",
   "metadata": {},
   "source": [
    "* Percentage and Count of Male Players\n",
    "\n",
    "\n",
    "* Percentage and Count of Female Players\n",
    "\n",
    "\n",
    "* Percentage and Count of Other / Non-Disclosed\n",
    "\n",
    "\n"
   ]
  },
  {
   "cell_type": "code",
   "execution_count": 11,
   "metadata": {},
   "outputs": [
    {
     "data": {
      "text/html": [
       "<style  type=\"text/css\" >\n",
       "</style><table id=\"T_b11a8112_52bc_11ea_99bb_8c8590900fa2\" ><thead>    <tr>        <th class=\"blank level0\" ></th>        <th class=\"col_heading level0 col0\" >Total Count</th>        <th class=\"col_heading level0 col1\" >Percentage of Players</th>    </tr>    <tr>        <th class=\"index_name level0\" >Gender</th>        <th class=\"blank\" ></th>        <th class=\"blank\" ></th>    </tr></thead><tbody>\n",
       "                <tr>\n",
       "                        <th id=\"T_b11a8112_52bc_11ea_99bb_8c8590900fa2level0_row0\" class=\"row_heading level0 row0\" >Female</th>\n",
       "                        <td id=\"T_b11a8112_52bc_11ea_99bb_8c8590900fa2row0_col0\" class=\"data row0 col0\" >81</td>\n",
       "                        <td id=\"T_b11a8112_52bc_11ea_99bb_8c8590900fa2row0_col1\" class=\"data row0 col1\" >14.06%</td>\n",
       "            </tr>\n",
       "            <tr>\n",
       "                        <th id=\"T_b11a8112_52bc_11ea_99bb_8c8590900fa2level0_row1\" class=\"row_heading level0 row1\" >Male</th>\n",
       "                        <td id=\"T_b11a8112_52bc_11ea_99bb_8c8590900fa2row1_col0\" class=\"data row1 col0\" >484</td>\n",
       "                        <td id=\"T_b11a8112_52bc_11ea_99bb_8c8590900fa2row1_col1\" class=\"data row1 col1\" >84.03%</td>\n",
       "            </tr>\n",
       "            <tr>\n",
       "                        <th id=\"T_b11a8112_52bc_11ea_99bb_8c8590900fa2level0_row2\" class=\"row_heading level0 row2\" >Other / Non-Disclosed</th>\n",
       "                        <td id=\"T_b11a8112_52bc_11ea_99bb_8c8590900fa2row2_col0\" class=\"data row2 col0\" >11</td>\n",
       "                        <td id=\"T_b11a8112_52bc_11ea_99bb_8c8590900fa2row2_col1\" class=\"data row2 col1\" >1.91%</td>\n",
       "            </tr>\n",
       "    </tbody></table>"
      ],
      "text/plain": [
       "<pandas.io.formats.style.Styler at 0x11eb79ed0>"
      ]
     },
     "execution_count": 11,
     "metadata": {},
     "output_type": "execute_result"
    }
   ],
   "source": [
    "grouped_gender_df = purchase_data.groupby(['Gender'])\n",
    "gender_count = grouped_gender_df[\"SN\"].nunique()\n",
    "gender_percent = gender_count  / total_players * 100\n",
    "\n",
    "gender_demographics = pd.DataFrame({\"Total Count\": gender_count,\n",
    "                                    \"Percentage of Players\":gender_percent})\n",
    "gender_demographics.style.format({\"Percentage of Players\":\"{:.2f}%\"})\n",
    "\n"
   ]
  },
  {
   "cell_type": "markdown",
   "metadata": {},
   "source": [
    "\n",
    "## Purchasing Analysis (Gender)"
   ]
  },
  {
   "cell_type": "markdown",
   "metadata": {},
   "source": [
    "* Run basic calculations to obtain purchase count, avg. purchase price, avg. purchase total per person etc. by gender\n",
    "\n",
    "\n",
    "\n",
    "\n",
    "* Create a summary data frame to hold the results\n",
    "\n",
    "\n",
    "* Optional: give the displayed data cleaner formatting\n",
    "\n",
    "\n",
    "* Display the summary data frame"
   ]
  },
  {
   "cell_type": "code",
   "execution_count": 12,
   "metadata": {},
   "outputs": [
    {
     "data": {
      "text/html": [
       "<style  type=\"text/css\" >\n",
       "</style><table id=\"T_1b5d9e96_52be_11ea_99bb_8c8590900fa2\" ><thead>    <tr>        <th class=\"blank level0\" ></th>        <th class=\"col_heading level0 col0\" >Purchase Count</th>        <th class=\"col_heading level0 col1\" >Total Purchase Value</th>        <th class=\"col_heading level0 col2\" >Average Purchase Price</th>        <th class=\"col_heading level0 col3\" >Average Total Purchase Per Person</th>    </tr>    <tr>        <th class=\"index_name level0\" >Gender</th>        <th class=\"blank\" ></th>        <th class=\"blank\" ></th>        <th class=\"blank\" ></th>        <th class=\"blank\" ></th>    </tr></thead><tbody>\n",
       "                <tr>\n",
       "                        <th id=\"T_1b5d9e96_52be_11ea_99bb_8c8590900fa2level0_row0\" class=\"row_heading level0 row0\" >Female</th>\n",
       "                        <td id=\"T_1b5d9e96_52be_11ea_99bb_8c8590900fa2row0_col0\" class=\"data row0 col0\" >113</td>\n",
       "                        <td id=\"T_1b5d9e96_52be_11ea_99bb_8c8590900fa2row0_col1\" class=\"data row0 col1\" >$361.94</td>\n",
       "                        <td id=\"T_1b5d9e96_52be_11ea_99bb_8c8590900fa2row0_col2\" class=\"data row0 col2\" >$3.20</td>\n",
       "                        <td id=\"T_1b5d9e96_52be_11ea_99bb_8c8590900fa2row0_col3\" class=\"data row0 col3\" >$4.47</td>\n",
       "            </tr>\n",
       "            <tr>\n",
       "                        <th id=\"T_1b5d9e96_52be_11ea_99bb_8c8590900fa2level0_row1\" class=\"row_heading level0 row1\" >Male</th>\n",
       "                        <td id=\"T_1b5d9e96_52be_11ea_99bb_8c8590900fa2row1_col0\" class=\"data row1 col0\" >652</td>\n",
       "                        <td id=\"T_1b5d9e96_52be_11ea_99bb_8c8590900fa2row1_col1\" class=\"data row1 col1\" >$1,967.64</td>\n",
       "                        <td id=\"T_1b5d9e96_52be_11ea_99bb_8c8590900fa2row1_col2\" class=\"data row1 col2\" >$3.02</td>\n",
       "                        <td id=\"T_1b5d9e96_52be_11ea_99bb_8c8590900fa2row1_col3\" class=\"data row1 col3\" >$4.07</td>\n",
       "            </tr>\n",
       "            <tr>\n",
       "                        <th id=\"T_1b5d9e96_52be_11ea_99bb_8c8590900fa2level0_row2\" class=\"row_heading level0 row2\" >Other / Non-Disclosed</th>\n",
       "                        <td id=\"T_1b5d9e96_52be_11ea_99bb_8c8590900fa2row2_col0\" class=\"data row2 col0\" >15</td>\n",
       "                        <td id=\"T_1b5d9e96_52be_11ea_99bb_8c8590900fa2row2_col1\" class=\"data row2 col1\" >$50.19</td>\n",
       "                        <td id=\"T_1b5d9e96_52be_11ea_99bb_8c8590900fa2row2_col2\" class=\"data row2 col2\" >$3.35</td>\n",
       "                        <td id=\"T_1b5d9e96_52be_11ea_99bb_8c8590900fa2row2_col3\" class=\"data row2 col3\" >$4.56</td>\n",
       "            </tr>\n",
       "    </tbody></table>"
      ],
      "text/plain": [
       "<pandas.io.formats.style.Styler at 0x11eb5d750>"
      ]
     },
     "execution_count": 12,
     "metadata": {},
     "output_type": "execute_result"
    }
   ],
   "source": [
    "grouped_gender_df = purchase_data.groupby(['Gender'])\n",
    "purchase_count = grouped_gender_df[\"SN\"].count()\n",
    "total_purchase_value = grouped_gender_df[\"Price\"].sum()\n",
    "average_purchase_price = total_purchase_value / purchase_count\n",
    "average_purchase_per = total_purchase_value / gender_count\n",
    "gender_analysis = pd.DataFrame({\"Purchase Count\": purchase_count,\n",
    "                                \"Total Purchase Value\":total_purchase_value,\n",
    "                                \"Average Purchase Price\":average_purchase_price,\n",
    "                                \"Average Total Purchase Per Person\":average_purchase_per})\n",
    "gender_analysis.style.format({'Total Purchase Value':\"${:,.2f}\",\n",
    "                             'Average Purchase Price': '${:,.2f}',\n",
    "                             'Average Total Purchase Per Person':\"${:,.2f}\"})\n",
    "                                                                \n",
    "\n",
    "\n",
    "\n"
   ]
  },
  {
   "cell_type": "markdown",
   "metadata": {},
   "source": [
    "## Age Demographics"
   ]
  },
  {
   "cell_type": "markdown",
   "metadata": {},
   "source": [
    "* Establish bins for ages\n",
    "\n",
    "\n",
    "* Categorize the existing players using the age bins. Hint: use pd.cut()\n",
    "\n",
    "\n",
    "* Calculate the numbers and percentages by age group\n",
    "\n",
    "\n",
    "* Create a summary data frame to hold the results\n",
    "\n",
    "\n",
    "* Optional: round the percentage column to two decimal points\n",
    "\n",
    "\n",
    "* Display Age Demographics Table\n"
   ]
  },
  {
   "cell_type": "code",
   "execution_count": 13,
   "metadata": {},
   "outputs": [
    {
     "data": {
      "text/html": [
       "<style  type=\"text/css\" >\n",
       "</style><table id=\"T_30f866b4_52be_11ea_99bb_8c8590900fa2\" ><thead>    <tr>        <th class=\"blank level0\" ></th>        <th class=\"col_heading level0 col0\" >Percentage of Players</th>        <th class=\"col_heading level0 col1\" >Total Count</th>    </tr>    <tr>        <th class=\"index_name level0\" >Age Group</th>        <th class=\"blank\" ></th>        <th class=\"blank\" ></th>    </tr></thead><tbody>\n",
       "                <tr>\n",
       "                        <th id=\"T_30f866b4_52be_11ea_99bb_8c8590900fa2level0_row0\" class=\"row_heading level0 row0\" ><10</th>\n",
       "                        <td id=\"T_30f866b4_52be_11ea_99bb_8c8590900fa2row0_col0\" class=\"data row0 col0\" >2.95%</td>\n",
       "                        <td id=\"T_30f866b4_52be_11ea_99bb_8c8590900fa2row0_col1\" class=\"data row0 col1\" >17</td>\n",
       "            </tr>\n",
       "            <tr>\n",
       "                        <th id=\"T_30f866b4_52be_11ea_99bb_8c8590900fa2level0_row1\" class=\"row_heading level0 row1\" >10-14</th>\n",
       "                        <td id=\"T_30f866b4_52be_11ea_99bb_8c8590900fa2row1_col0\" class=\"data row1 col0\" >3.82%</td>\n",
       "                        <td id=\"T_30f866b4_52be_11ea_99bb_8c8590900fa2row1_col1\" class=\"data row1 col1\" >22</td>\n",
       "            </tr>\n",
       "            <tr>\n",
       "                        <th id=\"T_30f866b4_52be_11ea_99bb_8c8590900fa2level0_row2\" class=\"row_heading level0 row2\" >15-19</th>\n",
       "                        <td id=\"T_30f866b4_52be_11ea_99bb_8c8590900fa2row2_col0\" class=\"data row2 col0\" >18.58%</td>\n",
       "                        <td id=\"T_30f866b4_52be_11ea_99bb_8c8590900fa2row2_col1\" class=\"data row2 col1\" >107</td>\n",
       "            </tr>\n",
       "            <tr>\n",
       "                        <th id=\"T_30f866b4_52be_11ea_99bb_8c8590900fa2level0_row3\" class=\"row_heading level0 row3\" >20-24</th>\n",
       "                        <td id=\"T_30f866b4_52be_11ea_99bb_8c8590900fa2row3_col0\" class=\"data row3 col0\" >44.79%</td>\n",
       "                        <td id=\"T_30f866b4_52be_11ea_99bb_8c8590900fa2row3_col1\" class=\"data row3 col1\" >258</td>\n",
       "            </tr>\n",
       "            <tr>\n",
       "                        <th id=\"T_30f866b4_52be_11ea_99bb_8c8590900fa2level0_row4\" class=\"row_heading level0 row4\" >25-29</th>\n",
       "                        <td id=\"T_30f866b4_52be_11ea_99bb_8c8590900fa2row4_col0\" class=\"data row4 col0\" >11.63%</td>\n",
       "                        <td id=\"T_30f866b4_52be_11ea_99bb_8c8590900fa2row4_col1\" class=\"data row4 col1\" >67</td>\n",
       "            </tr>\n",
       "            <tr>\n",
       "                        <th id=\"T_30f866b4_52be_11ea_99bb_8c8590900fa2level0_row5\" class=\"row_heading level0 row5\" >30-34</th>\n",
       "                        <td id=\"T_30f866b4_52be_11ea_99bb_8c8590900fa2row5_col0\" class=\"data row5 col0\" >9.55%</td>\n",
       "                        <td id=\"T_30f866b4_52be_11ea_99bb_8c8590900fa2row5_col1\" class=\"data row5 col1\" >55</td>\n",
       "            </tr>\n",
       "            <tr>\n",
       "                        <th id=\"T_30f866b4_52be_11ea_99bb_8c8590900fa2level0_row6\" class=\"row_heading level0 row6\" >35-39</th>\n",
       "                        <td id=\"T_30f866b4_52be_11ea_99bb_8c8590900fa2row6_col0\" class=\"data row6 col0\" >6.60%</td>\n",
       "                        <td id=\"T_30f866b4_52be_11ea_99bb_8c8590900fa2row6_col1\" class=\"data row6 col1\" >38</td>\n",
       "            </tr>\n",
       "            <tr>\n",
       "                        <th id=\"T_30f866b4_52be_11ea_99bb_8c8590900fa2level0_row7\" class=\"row_heading level0 row7\" >40+</th>\n",
       "                        <td id=\"T_30f866b4_52be_11ea_99bb_8c8590900fa2row7_col0\" class=\"data row7 col0\" >2.08%</td>\n",
       "                        <td id=\"T_30f866b4_52be_11ea_99bb_8c8590900fa2row7_col1\" class=\"data row7 col1\" >12</td>\n",
       "            </tr>\n",
       "    </tbody></table>"
      ],
      "text/plain": [
       "<pandas.io.formats.style.Styler at 0x10d94ecd0>"
      ]
     },
     "execution_count": 13,
     "metadata": {},
     "output_type": "execute_result"
    }
   ],
   "source": [
    "bins = [0, 9, 14, 19, 24, 28, 33, 39, 100]\n",
    "group_names = [\"<10\", \"10-14\", \"15-19\", \"20-24\", \"25-29\", \"30-34\", \"35-39\", \"40+\"] \n",
    "purchase_data[\"Age Group\"] = pd.cut(purchase_data[\"Age\"],bins, labels=group_names)\n",
    "age_grouped = purchase_data.groupby(\"Age Group\")\n",
    "total_count_age = age_grouped[\"SN\"].nunique()\n",
    "percentage_age = (total_count_age/total_players) * 100\n",
    "age_analysis = pd.DataFrame({\"Percentage of Players\": percentage_age, \"Total Count\": total_count_age})\n",
    "\n",
    "age_analysis.style.format({\"Percentage of Players\":\"{:.2f}%\"})"
   ]
  },
  {
   "cell_type": "markdown",
   "metadata": {},
   "source": [
    "## Purchasing Analysis (Age)"
   ]
  },
  {
   "cell_type": "markdown",
   "metadata": {},
   "source": [
    "* Bin the purchase_data data frame by age\n",
    "\n",
    "\n",
    "* Run basic calculations to obtain purchase count, avg. purchase price, avg. purchase total per person etc. in the table below\n",
    "\n",
    "\n",
    "* Create a summary data frame to hold the results\n",
    "\n",
    "\n",
    "* Optional: give the displayed data cleaner formatting\n",
    "\n",
    "\n",
    "* Display the summary data frame"
   ]
  },
  {
   "cell_type": "code",
   "execution_count": 14,
   "metadata": {},
   "outputs": [
    {
     "data": {
      "text/html": [
       "<style  type=\"text/css\" >\n",
       "</style><table id=\"T_7823f0d0_52be_11ea_99bb_8c8590900fa2\" ><thead>    <tr>        <th class=\"blank level0\" ></th>        <th class=\"col_heading level0 col0\" >Purchase Count</th>        <th class=\"col_heading level0 col1\" >Average Purchase Price</th>        <th class=\"col_heading level0 col2\" >Total Purchase Value</th>        <th class=\"col_heading level0 col3\" >Average Purchase Total per Person</th>    </tr>    <tr>        <th class=\"index_name level0\" >Age Group</th>        <th class=\"blank\" ></th>        <th class=\"blank\" ></th>        <th class=\"blank\" ></th>        <th class=\"blank\" ></th>    </tr></thead><tbody>\n",
       "                <tr>\n",
       "                        <th id=\"T_7823f0d0_52be_11ea_99bb_8c8590900fa2level0_row0\" class=\"row_heading level0 row0\" ><10</th>\n",
       "                        <td id=\"T_7823f0d0_52be_11ea_99bb_8c8590900fa2row0_col0\" class=\"data row0 col0\" >23</td>\n",
       "                        <td id=\"T_7823f0d0_52be_11ea_99bb_8c8590900fa2row0_col1\" class=\"data row0 col1\" >$3.35</td>\n",
       "                        <td id=\"T_7823f0d0_52be_11ea_99bb_8c8590900fa2row0_col2\" class=\"data row0 col2\" >$77.13</td>\n",
       "                        <td id=\"T_7823f0d0_52be_11ea_99bb_8c8590900fa2row0_col3\" class=\"data row0 col3\" >$4.54</td>\n",
       "            </tr>\n",
       "            <tr>\n",
       "                        <th id=\"T_7823f0d0_52be_11ea_99bb_8c8590900fa2level0_row1\" class=\"row_heading level0 row1\" >10-14</th>\n",
       "                        <td id=\"T_7823f0d0_52be_11ea_99bb_8c8590900fa2row1_col0\" class=\"data row1 col0\" >28</td>\n",
       "                        <td id=\"T_7823f0d0_52be_11ea_99bb_8c8590900fa2row1_col1\" class=\"data row1 col1\" >$2.96</td>\n",
       "                        <td id=\"T_7823f0d0_52be_11ea_99bb_8c8590900fa2row1_col2\" class=\"data row1 col2\" >$82.78</td>\n",
       "                        <td id=\"T_7823f0d0_52be_11ea_99bb_8c8590900fa2row1_col3\" class=\"data row1 col3\" >$3.76</td>\n",
       "            </tr>\n",
       "            <tr>\n",
       "                        <th id=\"T_7823f0d0_52be_11ea_99bb_8c8590900fa2level0_row2\" class=\"row_heading level0 row2\" >15-19</th>\n",
       "                        <td id=\"T_7823f0d0_52be_11ea_99bb_8c8590900fa2row2_col0\" class=\"data row2 col0\" >136</td>\n",
       "                        <td id=\"T_7823f0d0_52be_11ea_99bb_8c8590900fa2row2_col1\" class=\"data row2 col1\" >$3.04</td>\n",
       "                        <td id=\"T_7823f0d0_52be_11ea_99bb_8c8590900fa2row2_col2\" class=\"data row2 col2\" >$412.89</td>\n",
       "                        <td id=\"T_7823f0d0_52be_11ea_99bb_8c8590900fa2row2_col3\" class=\"data row2 col3\" >$3.86</td>\n",
       "            </tr>\n",
       "            <tr>\n",
       "                        <th id=\"T_7823f0d0_52be_11ea_99bb_8c8590900fa2level0_row3\" class=\"row_heading level0 row3\" >20-24</th>\n",
       "                        <td id=\"T_7823f0d0_52be_11ea_99bb_8c8590900fa2row3_col0\" class=\"data row3 col0\" >365</td>\n",
       "                        <td id=\"T_7823f0d0_52be_11ea_99bb_8c8590900fa2row3_col1\" class=\"data row3 col1\" >$3.05</td>\n",
       "                        <td id=\"T_7823f0d0_52be_11ea_99bb_8c8590900fa2row3_col2\" class=\"data row3 col2\" >$1,114.06</td>\n",
       "                        <td id=\"T_7823f0d0_52be_11ea_99bb_8c8590900fa2row3_col3\" class=\"data row3 col3\" >$4.32</td>\n",
       "            </tr>\n",
       "            <tr>\n",
       "                        <th id=\"T_7823f0d0_52be_11ea_99bb_8c8590900fa2level0_row4\" class=\"row_heading level0 row4\" >25-29</th>\n",
       "                        <td id=\"T_7823f0d0_52be_11ea_99bb_8c8590900fa2row4_col0\" class=\"data row4 col0\" >88</td>\n",
       "                        <td id=\"T_7823f0d0_52be_11ea_99bb_8c8590900fa2row4_col1\" class=\"data row4 col1\" >$2.93</td>\n",
       "                        <td id=\"T_7823f0d0_52be_11ea_99bb_8c8590900fa2row4_col2\" class=\"data row4 col2\" >$257.77</td>\n",
       "                        <td id=\"T_7823f0d0_52be_11ea_99bb_8c8590900fa2row4_col3\" class=\"data row4 col3\" >$3.85</td>\n",
       "            </tr>\n",
       "            <tr>\n",
       "                        <th id=\"T_7823f0d0_52be_11ea_99bb_8c8590900fa2level0_row5\" class=\"row_heading level0 row5\" >30-34</th>\n",
       "                        <td id=\"T_7823f0d0_52be_11ea_99bb_8c8590900fa2row5_col0\" class=\"data row5 col0\" >77</td>\n",
       "                        <td id=\"T_7823f0d0_52be_11ea_99bb_8c8590900fa2row5_col1\" class=\"data row5 col1\" >$2.95</td>\n",
       "                        <td id=\"T_7823f0d0_52be_11ea_99bb_8c8590900fa2row5_col2\" class=\"data row5 col2\" >$227.10</td>\n",
       "                        <td id=\"T_7823f0d0_52be_11ea_99bb_8c8590900fa2row5_col3\" class=\"data row5 col3\" >$4.13</td>\n",
       "            </tr>\n",
       "            <tr>\n",
       "                        <th id=\"T_7823f0d0_52be_11ea_99bb_8c8590900fa2level0_row6\" class=\"row_heading level0 row6\" >35-39</th>\n",
       "                        <td id=\"T_7823f0d0_52be_11ea_99bb_8c8590900fa2row6_col0\" class=\"data row6 col0\" >50</td>\n",
       "                        <td id=\"T_7823f0d0_52be_11ea_99bb_8c8590900fa2row6_col1\" class=\"data row6 col1\" >$3.40</td>\n",
       "                        <td id=\"T_7823f0d0_52be_11ea_99bb_8c8590900fa2row6_col2\" class=\"data row6 col2\" >$169.80</td>\n",
       "                        <td id=\"T_7823f0d0_52be_11ea_99bb_8c8590900fa2row6_col3\" class=\"data row6 col3\" >$4.47</td>\n",
       "            </tr>\n",
       "            <tr>\n",
       "                        <th id=\"T_7823f0d0_52be_11ea_99bb_8c8590900fa2level0_row7\" class=\"row_heading level0 row7\" >40+</th>\n",
       "                        <td id=\"T_7823f0d0_52be_11ea_99bb_8c8590900fa2row7_col0\" class=\"data row7 col0\" >13</td>\n",
       "                        <td id=\"T_7823f0d0_52be_11ea_99bb_8c8590900fa2row7_col1\" class=\"data row7 col1\" >$2.94</td>\n",
       "                        <td id=\"T_7823f0d0_52be_11ea_99bb_8c8590900fa2row7_col2\" class=\"data row7 col2\" >$38.24</td>\n",
       "                        <td id=\"T_7823f0d0_52be_11ea_99bb_8c8590900fa2row7_col3\" class=\"data row7 col3\" >$3.19</td>\n",
       "            </tr>\n",
       "    </tbody></table>"
      ],
      "text/plain": [
       "<pandas.io.formats.style.Styler at 0x11ebe7dd0>"
      ]
     },
     "execution_count": 14,
     "metadata": {},
     "output_type": "execute_result"
    }
   ],
   "source": [
    "purchase_count_age = age_grouped[\"Purchase ID\"].count()\n",
    "avg_purchase_price_age = age_grouped[\"Price\"].mean()\n",
    "total_purchase_value = age_grouped[\"Price\"].sum()\n",
    "avg_total_per = total_purchase_value/total_count_age\n",
    "age_stats = pd.DataFrame({\"Purchase Count\": purchase_count_age,\n",
    "                                 \"Average Purchase Price\": avg_purchase_price_age,\n",
    "                                 \"Total Purchase Value\":total_purchase_value,\n",
    "                                 \"Average Purchase Total per Person\": avg_total_per})\n",
    "age_stats.style.format({'Average Purchase Price':\"${:,.2f}\",\n",
    "                             'Total Purchase Value': '${:,.2f}',\n",
    "                             'Average Purchase Total per Person':\"${:,.2f}\"})\n"
   ]
  },
  {
   "cell_type": "markdown",
   "metadata": {},
   "source": [
    "## Top Spenders"
   ]
  },
  {
   "cell_type": "markdown",
   "metadata": {},
   "source": [
    "* Run basic calculations to obtain the results in the table below\n",
    "\n",
    "\n",
    "* Create a summary data frame to hold the results\n",
    "\n",
    "\n",
    "* Sort the total purchase value column in descending order\n",
    "\n",
    "\n",
    "* Optional: give the displayed data cleaner formatting\n",
    "\n",
    "\n",
    "* Display a preview of the summary data frame\n",
    "\n"
   ]
  },
  {
   "cell_type": "code",
   "execution_count": 24,
   "metadata": {},
   "outputs": [
    {
     "data": {
      "text/html": [
       "<style  type=\"text/css\" >\n",
       "</style><table id=\"T_ec7e23e6_52bf_11ea_99bb_8c8590900fa2\" ><thead>    <tr>        <th class=\"blank level0\" ></th>        <th class=\"col_heading level0 col0\" >Purchase Count</th>        <th class=\"col_heading level0 col1\" >Average Purchase Price</th>        <th class=\"col_heading level0 col2\" >Total Purchase Value</th>    </tr>    <tr>        <th class=\"index_name level0\" >SN</th>        <th class=\"blank\" ></th>        <th class=\"blank\" ></th>        <th class=\"blank\" ></th>    </tr></thead><tbody>\n",
       "                <tr>\n",
       "                        <th id=\"T_ec7e23e6_52bf_11ea_99bb_8c8590900fa2level0_row0\" class=\"row_heading level0 row0\" >Lisosia93</th>\n",
       "                        <td id=\"T_ec7e23e6_52bf_11ea_99bb_8c8590900fa2row0_col0\" class=\"data row0 col0\" >5</td>\n",
       "                        <td id=\"T_ec7e23e6_52bf_11ea_99bb_8c8590900fa2row0_col1\" class=\"data row0 col1\" >$3.79</td>\n",
       "                        <td id=\"T_ec7e23e6_52bf_11ea_99bb_8c8590900fa2row0_col2\" class=\"data row0 col2\" >$18.96</td>\n",
       "            </tr>\n",
       "            <tr>\n",
       "                        <th id=\"T_ec7e23e6_52bf_11ea_99bb_8c8590900fa2level0_row1\" class=\"row_heading level0 row1\" >Idastidru52</th>\n",
       "                        <td id=\"T_ec7e23e6_52bf_11ea_99bb_8c8590900fa2row1_col0\" class=\"data row1 col0\" >4</td>\n",
       "                        <td id=\"T_ec7e23e6_52bf_11ea_99bb_8c8590900fa2row1_col1\" class=\"data row1 col1\" >$3.86</td>\n",
       "                        <td id=\"T_ec7e23e6_52bf_11ea_99bb_8c8590900fa2row1_col2\" class=\"data row1 col2\" >$15.45</td>\n",
       "            </tr>\n",
       "            <tr>\n",
       "                        <th id=\"T_ec7e23e6_52bf_11ea_99bb_8c8590900fa2level0_row2\" class=\"row_heading level0 row2\" >Chamjask73</th>\n",
       "                        <td id=\"T_ec7e23e6_52bf_11ea_99bb_8c8590900fa2row2_col0\" class=\"data row2 col0\" >3</td>\n",
       "                        <td id=\"T_ec7e23e6_52bf_11ea_99bb_8c8590900fa2row2_col1\" class=\"data row2 col1\" >$4.61</td>\n",
       "                        <td id=\"T_ec7e23e6_52bf_11ea_99bb_8c8590900fa2row2_col2\" class=\"data row2 col2\" >$13.83</td>\n",
       "            </tr>\n",
       "            <tr>\n",
       "                        <th id=\"T_ec7e23e6_52bf_11ea_99bb_8c8590900fa2level0_row3\" class=\"row_heading level0 row3\" >Iral74</th>\n",
       "                        <td id=\"T_ec7e23e6_52bf_11ea_99bb_8c8590900fa2row3_col0\" class=\"data row3 col0\" >4</td>\n",
       "                        <td id=\"T_ec7e23e6_52bf_11ea_99bb_8c8590900fa2row3_col1\" class=\"data row3 col1\" >$3.40</td>\n",
       "                        <td id=\"T_ec7e23e6_52bf_11ea_99bb_8c8590900fa2row3_col2\" class=\"data row3 col2\" >$13.62</td>\n",
       "            </tr>\n",
       "            <tr>\n",
       "                        <th id=\"T_ec7e23e6_52bf_11ea_99bb_8c8590900fa2level0_row4\" class=\"row_heading level0 row4\" >Iskadarya95</th>\n",
       "                        <td id=\"T_ec7e23e6_52bf_11ea_99bb_8c8590900fa2row4_col0\" class=\"data row4 col0\" >3</td>\n",
       "                        <td id=\"T_ec7e23e6_52bf_11ea_99bb_8c8590900fa2row4_col1\" class=\"data row4 col1\" >$4.37</td>\n",
       "                        <td id=\"T_ec7e23e6_52bf_11ea_99bb_8c8590900fa2row4_col2\" class=\"data row4 col2\" >$13.10</td>\n",
       "            </tr>\n",
       "    </tbody></table>"
      ],
      "text/plain": [
       "<pandas.io.formats.style.Styler at 0x11ebecf10>"
      ]
     },
     "execution_count": 24,
     "metadata": {},
     "output_type": "execute_result"
    }
   ],
   "source": [
    "spender_group = purchase_data.groupby(['SN'])\n",
    "purchase_count_spend = spender_group[\"Purchase ID\"].count()\n",
    "avg_purchase_price_spend = spender_group[\"Price\"].mean()\n",
    "total_purchase_value_spend = spender_group[\"Price\"].sum()\n",
    "spend_stats = pd.DataFrame({\"Purchase Count\": purchase_count_spend,\n",
    "                                 \"Average Purchase Price\": avg_purchase_price_spend,\n",
    "                                 \"Total Purchase Value\":total_purchase_value_spend})\n",
    "spend_stats_sorted = spend_stats.sort_values(\"Total Purchase Value\", ascending=False).head()\n",
    "spend_stats_sorted.style.format({'Average Purchase Price': '${:,.2f}',\n",
    "                             'Total Purchase Value':\"${:,.2f}\"})\n",
    "\n"
   ]
  },
  {
   "cell_type": "markdown",
   "metadata": {},
   "source": [
    "## Most Popular Items"
   ]
  },
  {
   "cell_type": "markdown",
   "metadata": {},
   "source": [
    "* Retrieve the Item ID, Item Name, and Item Price columns\n",
    "\n",
    "\n",
    "* Group by Item ID and Item Name. Perform calculations to obtain purchase count, item price, and total purchase value\n",
    "\n",
    "\n",
    "* Create a summary data frame to hold the results\n",
    "\n",
    "\n",
    "* Sort the purchase count column in descending order\n",
    "\n",
    "\n",
    "* Optional: give the displayed data cleaner formatting\n",
    "\n",
    "\n",
    "* Display a preview of the summary data frame\n",
    "\n"
   ]
  },
  {
   "cell_type": "code",
   "execution_count": 25,
   "metadata": {},
   "outputs": [
    {
     "data": {
      "text/html": [
       "<style  type=\"text/css\" >\n",
       "</style><table id=\"T_0feab088_52c0_11ea_99bb_8c8590900fa2\" ><thead>    <tr>        <th class=\"blank\" ></th>        <th class=\"blank level0\" ></th>        <th class=\"col_heading level0 col0\" >Purchase Count</th>        <th class=\"col_heading level0 col1\" >Item Price</th>        <th class=\"col_heading level0 col2\" >Total Purchase Value</th>    </tr>    <tr>        <th class=\"index_name level0\" >Item ID</th>        <th class=\"index_name level1\" >Item Name</th>        <th class=\"blank\" ></th>        <th class=\"blank\" ></th>        <th class=\"blank\" ></th>    </tr></thead><tbody>\n",
       "                <tr>\n",
       "                        <th id=\"T_0feab088_52c0_11ea_99bb_8c8590900fa2level0_row0\" class=\"row_heading level0 row0\" >178</th>\n",
       "                        <th id=\"T_0feab088_52c0_11ea_99bb_8c8590900fa2level1_row0\" class=\"row_heading level1 row0\" >Oathbreaker, Last Hope of the Breaking Storm</th>\n",
       "                        <td id=\"T_0feab088_52c0_11ea_99bb_8c8590900fa2row0_col0\" class=\"data row0 col0\" >12</td>\n",
       "                        <td id=\"T_0feab088_52c0_11ea_99bb_8c8590900fa2row0_col1\" class=\"data row0 col1\" >$4.23</td>\n",
       "                        <td id=\"T_0feab088_52c0_11ea_99bb_8c8590900fa2row0_col2\" class=\"data row0 col2\" >$50.76</td>\n",
       "            </tr>\n",
       "            <tr>\n",
       "                        <th id=\"T_0feab088_52c0_11ea_99bb_8c8590900fa2level0_row1\" class=\"row_heading level0 row1\" >145</th>\n",
       "                        <th id=\"T_0feab088_52c0_11ea_99bb_8c8590900fa2level1_row1\" class=\"row_heading level1 row1\" >Fiery Glass Crusader</th>\n",
       "                        <td id=\"T_0feab088_52c0_11ea_99bb_8c8590900fa2row1_col0\" class=\"data row1 col0\" >9</td>\n",
       "                        <td id=\"T_0feab088_52c0_11ea_99bb_8c8590900fa2row1_col1\" class=\"data row1 col1\" >$4.58</td>\n",
       "                        <td id=\"T_0feab088_52c0_11ea_99bb_8c8590900fa2row1_col2\" class=\"data row1 col2\" >$41.22</td>\n",
       "            </tr>\n",
       "            <tr>\n",
       "                        <th id=\"T_0feab088_52c0_11ea_99bb_8c8590900fa2level0_row2\" class=\"row_heading level0 row2\" >108</th>\n",
       "                        <th id=\"T_0feab088_52c0_11ea_99bb_8c8590900fa2level1_row2\" class=\"row_heading level1 row2\" >Extraction, Quickblade Of Trembling Hands</th>\n",
       "                        <td id=\"T_0feab088_52c0_11ea_99bb_8c8590900fa2row2_col0\" class=\"data row2 col0\" >9</td>\n",
       "                        <td id=\"T_0feab088_52c0_11ea_99bb_8c8590900fa2row2_col1\" class=\"data row2 col1\" >$3.53</td>\n",
       "                        <td id=\"T_0feab088_52c0_11ea_99bb_8c8590900fa2row2_col2\" class=\"data row2 col2\" >$31.77</td>\n",
       "            </tr>\n",
       "            <tr>\n",
       "                        <th id=\"T_0feab088_52c0_11ea_99bb_8c8590900fa2level0_row3\" class=\"row_heading level0 row3\" >82</th>\n",
       "                        <th id=\"T_0feab088_52c0_11ea_99bb_8c8590900fa2level1_row3\" class=\"row_heading level1 row3\" >Nirvana</th>\n",
       "                        <td id=\"T_0feab088_52c0_11ea_99bb_8c8590900fa2row3_col0\" class=\"data row3 col0\" >9</td>\n",
       "                        <td id=\"T_0feab088_52c0_11ea_99bb_8c8590900fa2row3_col1\" class=\"data row3 col1\" >$4.90</td>\n",
       "                        <td id=\"T_0feab088_52c0_11ea_99bb_8c8590900fa2row3_col2\" class=\"data row3 col2\" >$44.10</td>\n",
       "            </tr>\n",
       "            <tr>\n",
       "                        <th id=\"T_0feab088_52c0_11ea_99bb_8c8590900fa2level0_row4\" class=\"row_heading level0 row4\" >19</th>\n",
       "                        <th id=\"T_0feab088_52c0_11ea_99bb_8c8590900fa2level1_row4\" class=\"row_heading level1 row4\" >Pursuit, Cudgel of Necromancy</th>\n",
       "                        <td id=\"T_0feab088_52c0_11ea_99bb_8c8590900fa2row4_col0\" class=\"data row4 col0\" >8</td>\n",
       "                        <td id=\"T_0feab088_52c0_11ea_99bb_8c8590900fa2row4_col1\" class=\"data row4 col1\" >$1.02</td>\n",
       "                        <td id=\"T_0feab088_52c0_11ea_99bb_8c8590900fa2row4_col2\" class=\"data row4 col2\" >$8.16</td>\n",
       "            </tr>\n",
       "    </tbody></table>"
      ],
      "text/plain": [
       "<pandas.io.formats.style.Styler at 0x11e075410>"
      ]
     },
     "execution_count": 25,
     "metadata": {},
     "output_type": "execute_result"
    }
   ],
   "source": [
    "item_group = purchase_data.groupby(['Item ID','Item Name'])\n",
    "purchase_count_item = item_group[\"Purchase ID\"].count()\n",
    "item_price = item_group[\"Price\"].mean()\n",
    "total_purchase_value_item = item_group[\"Price\"].sum()\n",
    "item_stats = pd.DataFrame({\"Purchase Count\": purchase_count_item,\n",
    "                                 \"Item Price\": item_price,\n",
    "                                 \"Total Purchase Value\":total_purchase_value_item})\n",
    "item_stats_sorted = item_stats.sort_values(\"Purchase Count\", ascending=False).head()\n",
    "item_stats_sorted.style.format({'Item Price': '${:,.2f}',\n",
    "                             'Total Purchase Value':\"${:,.2f}\"})\n",
    "\n",
    "\n",
    "\n",
    "\n"
   ]
  },
  {
   "cell_type": "markdown",
   "metadata": {},
   "source": [
    "## Most Profitable Items"
   ]
  },
  {
   "cell_type": "markdown",
   "metadata": {},
   "source": [
    "* Sort the above table by total purchase value in descending order\n",
    "\n",
    "\n",
    "* Optional: give the displayed data cleaner formatting\n",
    "\n",
    "\n",
    "* Display a preview of the data frame\n",
    "\n"
   ]
  },
  {
   "cell_type": "code",
   "execution_count": 26,
   "metadata": {
    "scrolled": true
   },
   "outputs": [
    {
     "data": {
      "text/html": [
       "<style  type=\"text/css\" >\n",
       "</style><table id=\"T_37ddfa8c_52c0_11ea_99bb_8c8590900fa2\" ><thead>    <tr>        <th class=\"blank\" ></th>        <th class=\"blank level0\" ></th>        <th class=\"col_heading level0 col0\" >Purchase Count</th>        <th class=\"col_heading level0 col1\" >Item Price</th>        <th class=\"col_heading level0 col2\" >Total Purchase Value</th>    </tr>    <tr>        <th class=\"index_name level0\" >Item ID</th>        <th class=\"index_name level1\" >Item Name</th>        <th class=\"blank\" ></th>        <th class=\"blank\" ></th>        <th class=\"blank\" ></th>    </tr></thead><tbody>\n",
       "                <tr>\n",
       "                        <th id=\"T_37ddfa8c_52c0_11ea_99bb_8c8590900fa2level0_row0\" class=\"row_heading level0 row0\" >178</th>\n",
       "                        <th id=\"T_37ddfa8c_52c0_11ea_99bb_8c8590900fa2level1_row0\" class=\"row_heading level1 row0\" >Oathbreaker, Last Hope of the Breaking Storm</th>\n",
       "                        <td id=\"T_37ddfa8c_52c0_11ea_99bb_8c8590900fa2row0_col0\" class=\"data row0 col0\" >12</td>\n",
       "                        <td id=\"T_37ddfa8c_52c0_11ea_99bb_8c8590900fa2row0_col1\" class=\"data row0 col1\" >$4.23</td>\n",
       "                        <td id=\"T_37ddfa8c_52c0_11ea_99bb_8c8590900fa2row0_col2\" class=\"data row0 col2\" >$50.76</td>\n",
       "            </tr>\n",
       "            <tr>\n",
       "                        <th id=\"T_37ddfa8c_52c0_11ea_99bb_8c8590900fa2level0_row1\" class=\"row_heading level0 row1\" >82</th>\n",
       "                        <th id=\"T_37ddfa8c_52c0_11ea_99bb_8c8590900fa2level1_row1\" class=\"row_heading level1 row1\" >Nirvana</th>\n",
       "                        <td id=\"T_37ddfa8c_52c0_11ea_99bb_8c8590900fa2row1_col0\" class=\"data row1 col0\" >9</td>\n",
       "                        <td id=\"T_37ddfa8c_52c0_11ea_99bb_8c8590900fa2row1_col1\" class=\"data row1 col1\" >$4.90</td>\n",
       "                        <td id=\"T_37ddfa8c_52c0_11ea_99bb_8c8590900fa2row1_col2\" class=\"data row1 col2\" >$44.10</td>\n",
       "            </tr>\n",
       "            <tr>\n",
       "                        <th id=\"T_37ddfa8c_52c0_11ea_99bb_8c8590900fa2level0_row2\" class=\"row_heading level0 row2\" >145</th>\n",
       "                        <th id=\"T_37ddfa8c_52c0_11ea_99bb_8c8590900fa2level1_row2\" class=\"row_heading level1 row2\" >Fiery Glass Crusader</th>\n",
       "                        <td id=\"T_37ddfa8c_52c0_11ea_99bb_8c8590900fa2row2_col0\" class=\"data row2 col0\" >9</td>\n",
       "                        <td id=\"T_37ddfa8c_52c0_11ea_99bb_8c8590900fa2row2_col1\" class=\"data row2 col1\" >$4.58</td>\n",
       "                        <td id=\"T_37ddfa8c_52c0_11ea_99bb_8c8590900fa2row2_col2\" class=\"data row2 col2\" >$41.22</td>\n",
       "            </tr>\n",
       "            <tr>\n",
       "                        <th id=\"T_37ddfa8c_52c0_11ea_99bb_8c8590900fa2level0_row3\" class=\"row_heading level0 row3\" >92</th>\n",
       "                        <th id=\"T_37ddfa8c_52c0_11ea_99bb_8c8590900fa2level1_row3\" class=\"row_heading level1 row3\" >Final Critic</th>\n",
       "                        <td id=\"T_37ddfa8c_52c0_11ea_99bb_8c8590900fa2row3_col0\" class=\"data row3 col0\" >8</td>\n",
       "                        <td id=\"T_37ddfa8c_52c0_11ea_99bb_8c8590900fa2row3_col1\" class=\"data row3 col1\" >$4.88</td>\n",
       "                        <td id=\"T_37ddfa8c_52c0_11ea_99bb_8c8590900fa2row3_col2\" class=\"data row3 col2\" >$39.04</td>\n",
       "            </tr>\n",
       "            <tr>\n",
       "                        <th id=\"T_37ddfa8c_52c0_11ea_99bb_8c8590900fa2level0_row4\" class=\"row_heading level0 row4\" >103</th>\n",
       "                        <th id=\"T_37ddfa8c_52c0_11ea_99bb_8c8590900fa2level1_row4\" class=\"row_heading level1 row4\" >Singed Scalpel</th>\n",
       "                        <td id=\"T_37ddfa8c_52c0_11ea_99bb_8c8590900fa2row4_col0\" class=\"data row4 col0\" >8</td>\n",
       "                        <td id=\"T_37ddfa8c_52c0_11ea_99bb_8c8590900fa2row4_col1\" class=\"data row4 col1\" >$4.35</td>\n",
       "                        <td id=\"T_37ddfa8c_52c0_11ea_99bb_8c8590900fa2row4_col2\" class=\"data row4 col2\" >$34.80</td>\n",
       "            </tr>\n",
       "    </tbody></table>"
      ],
      "text/plain": [
       "<pandas.io.formats.style.Styler at 0x11ebe7810>"
      ]
     },
     "execution_count": 26,
     "metadata": {},
     "output_type": "execute_result"
    }
   ],
   "source": [
    "item_group = purchase_data.groupby(['Item ID','Item Name'])\n",
    "purchase_count_item = item_group[\"Purchase ID\"].count()\n",
    "item_price = item_group[\"Price\"].mean()\n",
    "total_purchase_value_item = item_group[\"Price\"].sum()\n",
    "item_stats = pd.DataFrame({\"Purchase Count\": purchase_count_item,\n",
    "                                 \"Item Price\": item_price,\n",
    "                                 \"Total Purchase Value\":total_purchase_value_item})\n",
    "item_stats_sorted_purchase = item_stats.sort_values(\"Total Purchase Value\", ascending=False).head()\n",
    "item_stats_sorted_purchase.style.format({'Item Price': '${:,.2f}',\n",
    "                             'Total Purchase Value':\"${:,.2f}\"})\n"
   ]
  },
  {
   "cell_type": "code",
   "execution_count": null,
   "metadata": {},
   "outputs": [],
   "source": []
  }
 ],
 "metadata": {
  "anaconda-cloud": {},
  "kernel_info": {
   "name": "python3"
  },
  "kernelspec": {
   "display_name": "Python 3",
   "language": "python",
   "name": "python3"
  },
  "language_info": {
   "codemirror_mode": {
    "name": "ipython",
    "version": 3
   },
   "file_extension": ".py",
   "mimetype": "text/x-python",
   "name": "python",
   "nbconvert_exporter": "python",
   "pygments_lexer": "ipython3",
   "version": "3.7.4"
  },
  "latex_envs": {
   "LaTeX_envs_menu_present": true,
   "autoclose": false,
   "autocomplete": true,
   "bibliofile": "biblio.bib",
   "cite_by": "apalike",
   "current_citInitial": 1,
   "eqLabelWithNumbers": true,
   "eqNumInitial": 1,
   "hotkeys": {
    "equation": "Ctrl-E",
    "itemize": "Ctrl-I"
   },
   "labels_anchors": false,
   "latex_user_defs": false,
   "report_style_numbering": false,
   "user_envs_cfg": false
  },
  "nteract": {
   "version": "0.2.0"
  }
 },
 "nbformat": 4,
 "nbformat_minor": 2
}
